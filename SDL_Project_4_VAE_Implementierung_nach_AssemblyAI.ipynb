{
  "nbformat": 4,
  "nbformat_minor": 0,
  "metadata": {
    "colab": {
      "provenance": [],
      "include_colab_link": true
    },
    "kernelspec": {
      "name": "python3",
      "display_name": "Python 3"
    },
    "language_info": {
      "name": "python"
    }
  },
  "cells": [
    {
      "cell_type": "markdown",
      "metadata": {
        "id": "view-in-github",
        "colab_type": "text"
      },
      "source": [
        "<a href=\"https://colab.research.google.com/github/AntonRenker/project4_deep_learning/blob/main/SDL_Project_4_VAE_Implementierung_nach_AssemblyAI.ipynb\" target=\"_parent\"><img src=\"https://colab.research.google.com/assets/colab-badge.svg\" alt=\"Open In Colab\"/></a>"
      ]
    },
    {
      "cell_type": "markdown",
      "source": [
        "# Variational Autoencoders"
      ],
      "metadata": {
        "id": "N_lYLBjFd83n"
      }
    },
    {
      "cell_type": "code",
      "source": [
        "# import packages\n",
        "from IPython import display\n",
        "\n",
        "import glob\n",
        "import imageio\n",
        "import matplotlib.pyplot as plt\n",
        "import numpy as np\n",
        "import PIL\n",
        "import tensorflow as tf\n",
        "import tensorflow_probability as tfp\n",
        "import umap\n",
        "import time"
      ],
      "metadata": {
        "id": "QL4mAGHAh6FY"
      },
      "execution_count": null,
      "outputs": []
    },
    {
      "cell_type": "code",
      "source": [
        "!pip install umap-learn"
      ],
      "metadata": {
        "colab": {
          "base_uri": "https://localhost:8080/"
        },
        "id": "KIFTs6HkzPUB",
        "outputId": "87afb535-1f8a-4d6c-9c83-0e9cc2d421b0"
      },
      "execution_count": null,
      "outputs": [
        {
          "output_type": "stream",
          "name": "stdout",
          "text": [
            "Collecting umap-learn\n",
            "  Downloading umap_learn-0.5.7-py3-none-any.whl.metadata (21 kB)\n",
            "Requirement already satisfied: numpy>=1.17 in /usr/local/lib/python3.10/dist-packages (from umap-learn) (1.26.4)\n",
            "Requirement already satisfied: scipy>=1.3.1 in /usr/local/lib/python3.10/dist-packages (from umap-learn) (1.13.1)\n",
            "Requirement already satisfied: scikit-learn>=0.22 in /usr/local/lib/python3.10/dist-packages (from umap-learn) (1.6.0)\n",
            "Requirement already satisfied: numba>=0.51.2 in /usr/local/lib/python3.10/dist-packages (from umap-learn) (0.60.0)\n",
            "Collecting pynndescent>=0.5 (from umap-learn)\n",
            "  Downloading pynndescent-0.5.13-py3-none-any.whl.metadata (6.8 kB)\n",
            "Requirement already satisfied: tqdm in /usr/local/lib/python3.10/dist-packages (from umap-learn) (4.67.1)\n",
            "Requirement already satisfied: llvmlite<0.44,>=0.43.0dev0 in /usr/local/lib/python3.10/dist-packages (from numba>=0.51.2->umap-learn) (0.43.0)\n",
            "Requirement already satisfied: joblib>=0.11 in /usr/local/lib/python3.10/dist-packages (from pynndescent>=0.5->umap-learn) (1.4.2)\n",
            "Requirement already satisfied: threadpoolctl>=3.1.0 in /usr/local/lib/python3.10/dist-packages (from scikit-learn>=0.22->umap-learn) (3.5.0)\n",
            "Downloading umap_learn-0.5.7-py3-none-any.whl (88 kB)\n",
            "\u001b[2K   \u001b[90m━━━━━━━━━━━━━━━━━━━━━━━━━━━━━━━━━━━━━━━━\u001b[0m \u001b[32m88.8/88.8 kB\u001b[0m \u001b[31m4.4 MB/s\u001b[0m eta \u001b[36m0:00:00\u001b[0m\n",
            "\u001b[?25hDownloading pynndescent-0.5.13-py3-none-any.whl (56 kB)\n",
            "\u001b[2K   \u001b[90m━━━━━━━━━━━━━━━━━━━━━━━━━━━━━━━━━━━━━━━━\u001b[0m \u001b[32m56.9/56.9 kB\u001b[0m \u001b[31m3.8 MB/s\u001b[0m eta \u001b[36m0:00:00\u001b[0m\n",
            "\u001b[?25hInstalling collected packages: pynndescent, umap-learn\n",
            "Successfully installed pynndescent-0.5.13 umap-learn-0.5.7\n"
          ]
        }
      ]
    },
    {
      "cell_type": "markdown",
      "source": [
        "## Data Preparation"
      ],
      "metadata": {
        "id": "ajRonYkx10wM"
      }
    },
    {
      "cell_type": "code",
      "source": [
        "# load MNIST data\n",
        "(train_images, train_lables), (test_images, test_lables) = tf.keras.datasets.mnist.load_data()\n",
        "\n",
        "# display an example image\n",
        "plt.imshow(train_images[0,:,:], cmap='gray_r')\n",
        "plt.axis(\"off\")"
      ],
      "metadata": {
        "colab": {
          "base_uri": "https://localhost:8080/",
          "height": 459
        },
        "id": "mq4A9CtKh97D",
        "outputId": "47c5358c-3bf5-4d43-f7f5-edbc22ec090f"
      },
      "execution_count": null,
      "outputs": [
        {
          "output_type": "stream",
          "name": "stdout",
          "text": [
            "Downloading data from https://storage.googleapis.com/tensorflow/tf-keras-datasets/mnist.npz\n",
            "\u001b[1m11490434/11490434\u001b[0m \u001b[32m━━━━━━━━━━━━━━━━━━━━\u001b[0m\u001b[37m\u001b[0m \u001b[1m0s\u001b[0m 0us/step\n"
          ]
        },
        {
          "output_type": "execute_result",
          "data": {
            "text/plain": [
              "(-0.5, 27.5, 27.5, -0.5)"
            ]
          },
          "metadata": {},
          "execution_count": 3
        },
        {
          "output_type": "display_data",
          "data": {
            "text/plain": [
              "<Figure size 640x480 with 1 Axes>"
            ],
            "image/png": "[encoded data removed]"
          },
          "metadata": {}
        }
      ]
    },
    {
      "cell_type": "markdown",
      "source": [
        "* each pixel modelled with a Bernoulli distribution\n",
        "* an outcome of 1 represents a completely white pixel (pixel intensity = 255) and a 0 represents a completely black pixel (pixel intensity = 0)\n",
        "* scale pixel values to be in the range $[0, 1]$ and then binarize them with a threshold of 0.5\n",
        "* initialize train_size, test_size and batch_size  \n",
        "* shuffle dataset to introduce randomness  "
      ],
      "metadata": {
        "id": "-lNTM_ua7YPO"
      }
    },
    {
      "cell_type": "code",
      "source": [
        "flattened_pixels = train_images.flatten()\n",
        "\n",
        "# Plot the histogram of pixel intensity values\n",
        "plt.figure(figsize=(8, 6))\n",
        "plt.hist(flattened_pixels, bins=50, color='blue', alpha=0.7)\n",
        "plt.title(\"Histogram of Pixel Intensity Values in MNIST Train Images\")\n",
        "plt.xlabel(\"Pixel Intensity\")\n",
        "plt.ylabel(\"Frequency\")\n",
        "plt.grid(axis='y', linestyle='--', alpha=0.7)\n",
        "plt.show()\n"
      ],
      "metadata": {
        "colab": {
          "base_uri": "https://localhost:8080/",
          "height": 564
        },
        "id": "4ze-sRqGk1Hr",
        "outputId": "5384948a-f060-4378-9810-d2f691d1eef4"
      },
      "execution_count": null,
      "outputs": [
        {
          "output_type": "display_data",
          "data": {
            "text/plain": [
              "<Figure size 800x600 with 1 Axes>"
            ],
            "image/png": "[encoded data removed]"
          },
          "metadata": {}
        }
      ]
    },
    {
      "cell_type": "code",
      "source": [
        "def preprocess_images(images):\n",
        "    \" This function scales the pixel values to be in [0,1] and then binarize them with a treshold of 0.5.\"\n",
        "    images = images.reshape((images.shape[0], 28, 28, 1)) / 255.\n",
        "    return np.where(images > .5, 1.0, 0.0).astype('float32')\n",
        "\n",
        "# preprocess train and test images\n",
        "train_images = preprocess_images(train_images)\n",
        "test_images = preprocess_images(test_images)\n",
        "\n",
        "# display an examle image\n",
        "plt.imshow(train_images[0,:,:], cmap='gray_r')\n",
        "plt.axis(\"off\")\n",
        "plt.tight_layout()\n",
        "\n",
        "# initialize size of train and test images and batch size\n",
        "train_size = train_images.shape[0]\n",
        "test_size = test_images.shape[0]\n",
        "batch_size = 32\n",
        "\n",
        "# shuffle and divide the datasets into batches\n",
        "train_dataset = (tf.data.Dataset.from_tensor_slices(train_images)\n",
        "                 .shuffle(train_size).batch(batch_size))\n",
        "test_dataset = (tf.data.Dataset.from_tensor_slices(test_images)\n",
        "                .shuffle(test_size).batch(batch_size))"
      ],
      "metadata": {
        "colab": {
          "base_uri": "https://localhost:8080/",
          "height": 487
        },
        "id": "YvusYc0613ay",
        "outputId": "100400f0-bd47-471e-c0ad-c12a2483c042"
      },
      "execution_count": null,
      "outputs": [
        {
          "output_type": "display_data",
          "data": {
            "text/plain": [
              "<Figure size 640x480 with 1 Axes>"
            ],
            "image/png": "[encoded data removed]"
          },
          "metadata": {}
        }
      ]
    },
    {
      "cell_type": "markdown",
      "source": [
        "## Encoder and Decoder\n",
        "Encoder\n",
        "* sequence of convolutional layers with ReLU activation, where the final convolution does not have an activation\n",
        "* so-called \"CVAEs\" - Convolutional Variational AutoEncoders\n",
        "* final layer is a dense layer that encodes to twice the size of our latent space to yield parameters for a distribution (mean vector and log variance vector (diagonal of log covariance matrix) with the same dimensionality of the latent space)\n",
        "* mapping to parameters for a distribution defined on our latent space\n",
        "* use Gaussians with diagonal log covariance matrices\n",
        "\n",
        "Decoder\n",
        "* effectively mirrors the encoder network\n",
        "* symmetry such that the encoder learns a function $f$ which maps to the latent space and the decoder learns the inverse function $f^-1$ which maps from the latent space back into the original space\n",
        "* The Conv2DTranspose layers provide learnable upsampling to invert our convolutional layers.\n",
        "\n",
        "Training Process - Forward Pass Functions\n",
        "\n",
        "* Encoding Function\n",
        "  * pass image through encoder to encode it with the caveat that we bifurcate the output\n",
        "  * split output into two vectors, each with the same dimensionality of the latent space\n",
        "  * first vector represents the mean of our multivariate Gaussian in the latent space\n",
        "  * second vector represents the variances of the same Gaussian's diagonal log covariance matrix\n",
        "* Reparameterization Function\n",
        "  * we decode a point in the latent space that is randomly sampled according to the distribution defined by the parameters output by our encoding network\n",
        "  * cannot simply use tf.random.normal() as backprop cannot flow through a random process $\\rightarrow$ use reparameterization trick\n",
        "  * define another random variable which is deterministic in our mean and log variance vectors: take mean and log variance as parameters and maintain stochasticity via a Hadamard product of the log variance vector with a vector whose components are independently sampled from a standard normal distribution\n",
        "  * Backprop cannot flow through the process that produces the random vector used in the Hadamard product, but that does not matter because we do not need to train this process.\n",
        "* Decoding Function\n",
        "  * a latent space point gets passed through the decoder network\n",
        "  * output either logits directly or their sigmoid (default: do not apply sigmoid for purposes of numerical stability)\n",
        "* Sampling Function\n",
        "  * Given a reparameterized sampling from a distribution, the sampling function decodes the input\n",
        "  * in case of no input, it will randomly input 100 points in the latent space sampled from a standard normal distribution\n",
        "  * @tf.function to convert the function into a graph for faster execution"
      ],
      "metadata": {
        "id": "9xRf2Janimds"
      }
    },
    {
      "cell_type": "code",
      "source": [
        "class CVAE(tf.keras.Model):\n",
        "    \"\"\"Convolutional variational autoencoder.\"\"\"\n",
        "\n",
        "    def __init__(self, latent_dim):\n",
        "        super(CVAE, self).__init__()\n",
        "        self.latent_dim = latent_dim\n",
        "\n",
        "        # Encoder\n",
        "        self.encoder = tf.keras.Sequential(\n",
        "              [\n",
        "                  tf.keras.layers.InputLayer(input_shape=(28, 28, 1)),\n",
        "                  tf.keras.layers.Conv2D(\n",
        "                      filters=32, kernel_size=3, strides=(2, 2), activation='relu'),\n",
        "                  tf.keras.layers.Conv2D(\n",
        "                      filters=64, kernel_size=3, strides=(2, 2), activation='relu'),\n",
        "                  tf.keras.layers.Flatten(),\n",
        "                  tf.keras.layers.Dense(latent_dim + latent_dim),\n",
        "              ]\n",
        "        )\n",
        "\n",
        "        # Decoder\n",
        "        self.decoder = tf.keras.Sequential(\n",
        "            [\n",
        "                tf.keras.layers.InputLayer(input_shape=(latent_dim,)),\n",
        "                tf.keras.layers.Dense(units=7*7*32, activation=tf.nn.relu),\n",
        "                tf.keras.layers.Reshape(target_shape=(7, 7, 32)),\n",
        "                tf.keras.layers.Conv2DTranspose(\n",
        "                    filters=64, kernel_size=3, strides=2, padding='same',\n",
        "                    activation='relu'),\n",
        "                tf.keras.layers.Conv2DTranspose(\n",
        "                    filters=32, kernel_size=3, strides=2, padding='same',\n",
        "                    activation='relu'),\n",
        "                # No activation\n",
        "                tf.keras.layers.Conv2DTranspose(\n",
        "                    filters=1, kernel_size=3, strides=1, padding='same'),\n",
        "            ]\n",
        "        )\n",
        "\n",
        "    # Encoding Function\n",
        "    def encode(self, x):\n",
        "        # separate output of encoder into mean and log variance\n",
        "        mean, logvar = tf.split(self.encoder(x), num_or_size_splits=2, axis=1)\n",
        "        return mean, logvar\n",
        "\n",
        "    # Reparameterization Function\n",
        "    def reparameterize(self, mean, logvar):\n",
        "        # sample a standard normal epsilon\n",
        "        eps = tf.random.normal(shape=mean.shape)\n",
        "        # reparameterization: construct a normally distributed random variable\n",
        "        # with mean `mean` and variance exp(logvar)\n",
        "        return eps * tf.exp(logvar * .5) + mean\n",
        "\n",
        "    # Decoding Function\n",
        "    def decode(self, z, apply_sigmoid=False):\n",
        "        logits = self.decoder(z)\n",
        "        if apply_sigmoid:\n",
        "            probs = tf.sigmoid(logits)\n",
        "            return probs\n",
        "        return logits\n",
        "\n",
        "    # Sampling Function\n",
        "    @tf.function\n",
        "    def sample(self, z=None):\n",
        "        if z is None:\n",
        "            z = tf.random.normal(shape=(100, self.latent_dim))\n",
        "        return self.decode(z, apply_sigmoid=True)"
      ],
      "metadata": {
        "id": "3PK1j6ymia3B"
      },
      "execution_count": null,
      "outputs": []
    },
    {
      "cell_type": "markdown",
      "source": [
        "## Loss Computation\n",
        "* maximize ELBO\n",
        "$$\\text{ELBO} = E_{q(z|x)} \\left [ \\log \\frac{p(x,z)}{q(z|x)} \\right ]$$\n",
        "* approximate by singe sample Monte Carlo\n",
        "$$\\log p(x|z) + \\log p(z) - \\log q(z|x)$$\n",
        "* compute loss function:\n",
        "  1. Compute the distribution parameters for an image via encoding\n",
        "  2. Use these parameters to sample from the latent space using the reparameterization trick\n",
        "  3. Calculate the binary cross entropy between the input image and decoded image (reconstruction loss)\n",
        "  4. Calculate the values of the conditional distribution, the latent distribution prior (modeled as a unit Gaussian), and the approximate posterior distribution.\n",
        "  5. Calculate the ELBO\n",
        "  6. Negate the ELBO and return it as we need to maximize ELBO, but GD minimizes the loss function\n",
        "* for numerical stability we use `tf.nn.sigmoid_cross_entropy_with_logits()`, which is why we compute logits and do not pass them through sigmoid when decoding\n"
      ],
      "metadata": {
        "id": "ESZ6lDCsz2Yz"
      }
    },
    {
      "cell_type": "code",
      "source": [
        "# Loss Computation\n",
        "# helper function to compute pdf of standard log-normal distribution\n",
        "def log_normal_pdf(sample, mean, logvar, raxis=1):\n",
        "    log2pi = tf.math.log(2. * np.pi)\n",
        "    return tf.reduce_sum(\n",
        "        -.5 * ((sample - mean) ** 2. * tf.exp(-logvar) + logvar + log2pi),\n",
        "        axis=raxis)\n",
        "\n",
        "# compute loss function\n",
        "def compute_loss(model, x):\n",
        "    mean, logvar = model.encode(x)\n",
        "    z = model.reparameterize(mean, logvar)\n",
        "    x_logit = model.decode(z)\n",
        "    cross_ent = tf.nn.sigmoid_cross_entropy_with_logits(logits=x_logit, labels=x)\n",
        "    logpx_z = -tf.reduce_sum(cross_ent, axis=[1, 2, 3])\n",
        "    logpz = log_normal_pdf(z, 0., 0.)\n",
        "    logqz_x = log_normal_pdf(z, mean, logvar)\n",
        "    return -tf.reduce_mean(logpx_z + logpz - logqz_x)"
      ],
      "metadata": {
        "id": "bqKFTbLpz6TX"
      },
      "execution_count": null,
      "outputs": []
    },
    {
      "cell_type": "markdown",
      "source": [
        "Details:\n",
        "`tf.nn.sigmoid_cross_entropy_with_logits(logits=x_logit, labels=x)` computes binary cross-entropy and applies sigmoid function on `x_logit`\n",
        "\n",
        "$$\\text{cross_entropy} = -(x \\cdot \\log(\\sigma(x\\_logit)) + (1-x) \\cdot \\log(1- \\sigma(x\\_logit))$$\n",
        "\n",
        "and has the same shape as `x_logit` and `x` (cross-entropy loss is applied elementwise). Then `tf.reduce_sum(cross_ent, axis=[1, 2, 3])` sums over the dimensions specified in axis. If `cross_ent` has shape (batch_size, height, width, channels), this reduces the tensor to shape (batch_size, ), where each element represents the total cross-entropy loss for one image in the batch.\n",
        "\n",
        "\n",
        "\n"
      ],
      "metadata": {
        "id": "s2jr-_ltEphJ"
      }
    },
    {
      "cell_type": "markdown",
      "source": [
        "## Training Step\n",
        "* compute loss on a `GradientTape`\n",
        "* backprop to calculate the gradient\n",
        "* take a step with optimizer given the gradient\n",
        "* with `@tf.function` speed up computation"
      ],
      "metadata": {
        "id": "2_6PbJYjjim8"
      }
    },
    {
      "cell_type": "code",
      "source": [
        "@tf.function\n",
        "def train_step(model, x, optimizer):\n",
        "    \"\"\"Executes one training step and returns the loss.\n",
        "\n",
        "    This function computes the loss and gradients, and uses the latter to\n",
        "    update the model's parameters.\n",
        "    \"\"\"\n",
        "    with tf.GradientTape() as tape:\n",
        "        loss = compute_loss(model, x)\n",
        "    gradients = tape.gradient(loss, model.trainable_variables)\n",
        "    optimizer.apply_gradients(zip(gradients, model.trainable_variables))"
      ],
      "metadata": {
        "id": "CKSagmHaj3V7"
      },
      "execution_count": null,
      "outputs": []
    },
    {
      "cell_type": "markdown",
      "source": [
        "## Training\n",
        "Setup\n",
        "* choose the dimensionality of our latent space to be 2 so that we can visualize the latent space as we did above\n",
        "* set number of epochs to 10\n",
        "* instantiate model\n",
        "\n",
        "Plotting Function\n",
        "* track how the latent space is characterized during learning\n",
        "* grid of points in the latent space and passes them through the decoder to generate a landscape of generated images\n",
        "* how evovle different regions in the latent space to represent features, and how are these feature regions distributed across the space, with continuous transitions between them\n",
        "\n",
        "Training Loop\n",
        "* instantiate an Adam optimizer\n",
        "* enter training loop: iterate through each training batch and executing `train_step()`\n",
        "* After all batches have been processed, we compute the loss on the test set using the `compute_loss()`, and then return the negative of the average loss to yield the ELBO.\n",
        "* We return the negative average of the loss here because we flipped the sign in our `compute_loss()` function to use gradient-descent learning.\n",
        "* If we are within the first epoch, we save a snapshot of the latent space every 75 batches. This is because training happens so quickly that we need this level of granularity at the beginning to observe training. If we are not in the first epoch, we save a snapshot of the latent space at the end of every epoch."
      ],
      "metadata": {
        "id": "pfAVlcqq0Vhg"
      }
    },
    {
      "cell_type": "code",
      "source": [
        "# training\n",
        "latent_dim = 3\n",
        "epochs = 3  # for latent_dim = 2, epochs = 10 funktioniert gut\n",
        "model = CVAE(latent_dim)\n",
        "\n",
        "# plotting function\n",
        "def plot_latent_images(model, n, epoch, im_size=28, save=True, first_epoch=False, f_ep_count=0):\n",
        "\n",
        "    # Create image matrix\n",
        "    image_width = im_size*n\n",
        "    image_height = image_width\n",
        "    image = np.zeros((image_height, image_width))\n",
        "\n",
        "    # Create list of values which are evenly spaced wrt probability mass\n",
        "    norm = tfp.distributions.Normal(0, 1)\n",
        "    grid_x = norm.quantile(np.linspace(0.05, 0.95, n))\n",
        "    grid_y = norm.quantile(np.linspace(0.05, 0.95, n))\n",
        "\n",
        "    # For each point on the grid in the latent space, decode and\n",
        "    # copy the image into the image array\n",
        "    for i, yi in enumerate(grid_x):\n",
        "        for j, xi in enumerate(grid_y):\n",
        "            z = np.array([[xi, yi]])\n",
        "            x_decoded = model.sample(z)\n",
        "            digit = tf.reshape(x_decoded[0], (im_size, im_size))\n",
        "            image[i * im_size: (i + 1) * im_size,\n",
        "                  j * im_size: (j + 1) * im_size] = digit.numpy()\n",
        "\n",
        "    # Plot the image array\n",
        "    plt.figure(figsize=(10, 10))\n",
        "    plt.imshow(image, cmap='Greys_r')\n",
        "    plt.axis('Off')\n",
        "\n",
        "    # Potentially save, with different formatting if within first epoch\n",
        "    if save and first_epoch:\n",
        "        plt.savefig('training_process/tf_grid_at_epoch_{:04d}.{:04d}.png'.format(epoch, f_ep_count))\n",
        "    elif save:\n",
        "        plt.savefig('training_process/tf_grid_at_epoch_{:04d}.png'.format(epoch))\n",
        "    plt.show()\n",
        "\n",
        "\n",
        "# training loop\n",
        "tf.config.run_functions_eagerly(True)\n",
        "if latent_dim == 2:\n",
        "  plot_latent_images(model, 20, epoch=0)\n",
        "\n",
        "optimizer = tf.keras.optimizers.Adam(1e-4)\n",
        "\n",
        "for epoch in range(1, epochs + 1):\n",
        "    start_time = time.time()\n",
        "    for idx, train_x in enumerate(train_dataset):\n",
        "        # convert train_x to float32\n",
        "        train_x = tf.cast(train_x, dtype=tf.float32)\n",
        "        train_step(model, train_x, optimizer)\n",
        "        # plot latent image in epoch 1 for every 75th batch\n",
        "        if epoch == 1 and idx % 75 == 0 and latent_dim == 2:\n",
        "            plot_latent_images(model, 20, epoch=epoch, first_epoch=True, f_ep_count=idx)\n",
        "    end_time = time.time()\n",
        "    loss = tf.keras.metrics.Mean()\n",
        "    for test_x in test_dataset:\n",
        "        # Convert test_x to float32\n",
        "        test_x = tf.cast(test_x, dtype=tf.float32)\n",
        "        loss(compute_loss(model, test_x))\n",
        "    elbo = -loss.result()\n",
        "    #display.clear_output(wait=False)\n",
        "    print('Epoch: {}, Test set ELBO: {}, time elapse for current epoch: {}'.format(epoch, elbo, end_time - start_time))\n",
        "    if epoch != 1 and latent_dim ==2:\n",
        "        plot_latent_images(model, 20, epoch=epoch)"
      ],
      "metadata": {
        "colab": {
          "base_uri": "https://localhost:8080/"
        },
        "id": "afCRmxCT0mJy",
        "outputId": "434a3b7c-1870-4882-870d-e2588416bab8"
      },
      "execution_count": null,
      "outputs": [
        {
          "output_type": "stream",
          "name": "stderr",
          "text": [
            "/usr/local/lib/python3.10/dist-packages/keras/src/layers/core/input_layer.py:26: UserWarning: Argument `input_shape` is deprecated. Use `shape` instead.\n",
            "  warnings.warn(\n"
          ]
        },
        {
          "output_type": "stream",
          "name": "stdout",
          "text": [
            "Epoch: 1, Test set ELBO: -169.29745483398438, time elapse for current epoch: 267.37138175964355\n",
            "Epoch: 2, Test set ELBO: -156.8891143798828, time elapse for current epoch: 264.6587116718292\n",
            "Epoch: 3, Test set ELBO: -151.972900390625, time elapse for current epoch: 260.62137389183044\n"
          ]
        }
      ]
    },
    {
      "cell_type": "markdown",
      "source": [
        "## Results\n",
        "\n",
        "* string together the snapshots during training\n",
        "* visualizes how VAE learns to associate distinct features to different regions in the latent space and organizes these regions based on similarity to allow for a continuous transition between them"
      ],
      "metadata": {
        "id": "5SMAOr4t1nWn"
      }
    },
    {
      "cell_type": "code",
      "source": [
        "anim_file = 'grid2.gif'\n",
        "\n",
        "with imageio.get_writer(anim_file, mode='I') as writer:\n",
        "    filenames = glob.glob('training_process/tf_grid*.png')\n",
        "    filenames = sorted(filenames)\n",
        "    for filename in filenames:\n",
        "        print(filename)\n",
        "        image = imageio.imread(filename)\n",
        "        writer.append_data(image)\n",
        "    image = imageio.imread(filename)\n",
        "    writer.append_data(image)"
      ],
      "metadata": {
        "colab": {
          "base_uri": "https://localhost:8080/"
        },
        "id": "S8NyMWM-MA5j",
        "outputId": "e5826a03-8453-4b3b-c8e2-d7f0a9f7766a"
      },
      "execution_count": null,
      "outputs": [
        {
          "output_type": "stream",
          "name": "stdout",
          "text": [
            "training_process/tf_grid_at_epoch_0000.png\n",
            "training_process/tf_grid_at_epoch_0001.0000.png\n",
            "training_process/tf_grid_at_epoch_0001.0300.png\n"
          ]
        },
        {
          "output_type": "stream",
          "name": "stderr",
          "text": [
            "<ipython-input-10-8dd952696839>:8: DeprecationWarning: Starting with ImageIO v3 the behavior of this function will switch to that of iio.v3.imread. To keep the current behavior (and make this warning disappear) use `import imageio.v2 as imageio` or call `imageio.v2.imread` directly.\n",
            "  image = imageio.imread(filename)\n"
          ]
        },
        {
          "output_type": "stream",
          "name": "stdout",
          "text": [
            "training_process/tf_grid_at_epoch_0001.0600.png\n",
            "training_process/tf_grid_at_epoch_0001.0900.png\n",
            "training_process/tf_grid_at_epoch_0001.1200.png\n",
            "training_process/tf_grid_at_epoch_0001.1500.png\n",
            "training_process/tf_grid_at_epoch_0001.1800.png\n",
            "training_process/tf_grid_at_epoch_0002.png\n",
            "training_process/tf_grid_at_epoch_0003.png\n",
            "training_process/tf_grid_at_epoch_0004.png\n",
            "training_process/tf_grid_at_epoch_0005.png\n",
            "training_process/tf_grid_at_epoch_0006.png\n",
            "training_process/tf_grid_at_epoch_0007.png\n",
            "training_process/tf_grid_at_epoch_0008.png\n",
            "training_process/tf_grid_at_epoch_0009.png\n",
            "training_process/tf_grid_at_epoch_0010.png\n"
          ]
        },
        {
          "output_type": "stream",
          "name": "stderr",
          "text": [
            "<ipython-input-10-8dd952696839>:10: DeprecationWarning: Starting with ImageIO v3 the behavior of this function will switch to that of iio.v3.imread. To keep the current behavior (and make this warning disappear) use `import imageio.v2 as imageio` or call `imageio.v2.imread` directly.\n",
            "  image = imageio.imread(filename)\n"
          ]
        }
      ]
    }
  ]
}